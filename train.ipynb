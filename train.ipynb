{
 "cells": [
  {
   "cell_type": "code",
   "execution_count": 1,
   "metadata": {},
   "outputs": [
    {
     "name": "stderr",
     "output_type": "stream",
     "text": [
      "/Library/Frameworks/Python.framework/Versions/3.11/lib/python3.11/site-packages/albumentations/check_version.py:49: UserWarning: Error fetching version info <urlopen error [SSL: CERTIFICATE_VERIFY_FAILED] certificate verify failed: unable to get local issuer certificate (_ssl.c:1006)>\n",
      "  data = fetch_version_info()\n"
     ]
    }
   ],
   "source": [
    "import torch\n",
    "import numpy as np\n",
    "from torch.utils.data import DataLoader\n",
    "from dataset import ImageDataset\n",
    "import config\n",
    "from torch import optim\n",
    "from unet_models import unet\n",
    "from torch import nn\n",
    "from utils.dice_score import dice_loss\n",
    "import torch.nn.functional as F\n"
   ]
  },
  {
   "cell_type": "code",
   "execution_count": 2,
   "metadata": {},
   "outputs": [],
   "source": [
    "# Creating Dataloader\n",
    "train_set = ImageDataset(config.TRAIN_DIR)\n",
    "train_dl = DataLoader(train_set, shuffle=True, batch_size=config.TRAIN_BATCH_SIZE)\n",
    "\n",
    "val_set = ImageDataset(config.VAL_DIR)\n",
    "val_dl = DataLoader(val_set, shuffle=False, batch_size=config.VAL_BATCH_SIZE)\n"
   ]
  },
  {
   "cell_type": "code",
   "execution_count": 3,
   "metadata": {},
   "outputs": [
    {
     "name": "stderr",
     "output_type": "stream",
     "text": [
      "/Library/Frameworks/Python.framework/Versions/3.11/lib/python3.11/site-packages/torch/amp/grad_scaler.py:132: UserWarning: torch.cuda.amp.GradScaler is enabled, but CUDA is not available.  Disabling.\n",
      "  warnings.warn(\n"
     ]
    }
   ],
   "source": [
    "model = unet.UNet(3, 3)\n",
    "optimizer = optim.RMSprop(model.parameters(), lr=config.LEARNING_RATE, weight_decay=1e-8, momentum=0.999, foreach=True)\n",
    "scheduler = optim.lr_scheduler.ReduceLROnPlateau(optimizer, 'max', patience=5)\n",
    "grad_scaler = torch.amp.GradScaler('cuda')\n",
    "criterion = nn.CrossEntropyLoss()\n"
   ]
  },
  {
   "cell_type": "code",
   "execution_count": 4,
   "metadata": {},
   "outputs": [
    {
     "data": {
      "text/plain": [
       "(torch.Size([2, 3, 512, 512]), torch.Size([2, 3, 512, 512]))"
      ]
     },
     "execution_count": 4,
     "metadata": {},
     "output_type": "execute_result"
    }
   ],
   "source": [
    "images, targets = next(iter(train_dl))\n",
    "\n",
    "images = images.to(device=config.DEVICE, dtype=torch.float32, memory_format=torch.channels_last)\n",
    "targets = targets.to(device=config.DEVICE, dtype=torch.long)\n",
    "\n",
    "images.shape, targets.shape"
   ]
  },
  {
   "cell_type": "code",
   "execution_count": 21,
   "metadata": {},
   "outputs": [],
   "source": [
    "with torch.autocast(config.DEVICE if config.DEVICE != 'mps' else 'cpu', enabled=True):\n",
    "    targets_pred = model(images)\n",
    "    loss = criterion(targets_pred, targets.to(torch.float))\n",
    "    loss += dice_loss(\n",
    "        targets_pred.float(),\n",
    "        targets.float(),\n",
    "    )"
   ]
  },
  {
   "cell_type": "code",
   "execution_count": null,
   "metadata": {},
   "outputs": [],
   "source": [
    "gradient_clipping: float = 1.0\n",
    "\n",
    "optimizer.zero_grad(set_to_none=True)\n",
    "grad_scaler.scale(loss).backward()\n",
    "grad_scaler.unscale_(optimizer)\n",
    "torch.nn.utils.clip_grad_norm_(model.parameters(), gradient_clipping)\n",
    "grad_scaler.step(optimizer)\n",
    "grad_scaler.update()"
   ]
  },
  {
   "cell_type": "code",
   "execution_count": null,
   "metadata": {},
   "outputs": [],
   "source": []
  },
  {
   "cell_type": "code",
   "execution_count": null,
   "metadata": {},
   "outputs": [],
   "source": []
  },
  {
   "cell_type": "code",
   "execution_count": null,
   "metadata": {},
   "outputs": [],
   "source": []
  }
 ],
 "metadata": {
  "kernelspec": {
   "display_name": "Python 3",
   "language": "python",
   "name": "python3"
  },
  "language_info": {
   "codemirror_mode": {
    "name": "ipython",
    "version": 3
   },
   "file_extension": ".py",
   "mimetype": "text/x-python",
   "name": "python",
   "nbconvert_exporter": "python",
   "pygments_lexer": "ipython3",
   "version": "3.11.5"
  }
 },
 "nbformat": 4,
 "nbformat_minor": 2
}
