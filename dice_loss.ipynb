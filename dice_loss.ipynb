{
 "cells": [
  {
   "cell_type": "code",
   "execution_count": 7,
   "metadata": {},
   "outputs": [
    {
     "name": "stdout",
     "output_type": "stream",
     "text": [
      "Dice Loss: 0.6190366744995117\n"
     ]
    }
   ],
   "source": [
    "import torch\n",
    "import torch.nn.functional as F\n",
    "\n",
    "def dice_coefficient(prediction, target, smooth=1e-6):\n",
    "    \"\"\"\n",
    "    Calculate the Dice coefficient.\n",
    "    :param prediction: Predicted segmentation mask (float tensor)\n",
    "    :param target: Ground truth segmentation mask (float tensor)\n",
    "    :param smooth: Smoothing factor to avoid division by zero\n",
    "    :return: Dice coefficient\n",
    "    \"\"\"\n",
    "    intersection = (prediction * target).sum(dim=[1, 2])  # Sum over H and W\n",
    "    dice = (2. * intersection + smooth) / (prediction.sum(dim=[1, 2]) + target.sum(dim=[1, 2]) + smooth)\n",
    "    return dice.mean()  # Average over the batch\n",
    "\n",
    "def dice_loss(prediction, target):\n",
    "    \"\"\"\n",
    "    Calculate the Dice loss for RGB images.\n",
    "    :param prediction: Predicted segmentation mask (RGB) [B, C, H, W]\n",
    "    :param target: Ground truth segmentation mask (RGB) [B, C, H, W]\n",
    "    :return: Dice loss\n",
    "    \"\"\"\n",
    "    # Convert to binary masks (for segmentation, you might want to threshold)\n",
    "    prediction = (prediction > 0.5).float()  # Threshold for binary mask\n",
    "    target = (target > 0.5).float()          # Threshold for binary mask\n",
    "    \n",
    "    # Calculate Dice loss for each channel\n",
    "    dice_r = dice_coefficient(prediction[:, 0:1, :, :], target[:, 0:1, :, :])  # Red channel\n",
    "    dice_g = dice_coefficient(prediction[:, 1:2, :, :], target[:, 1:2, :, :])  # Green channel\n",
    "    dice_b = dice_coefficient(prediction[:, 2:3, :, :], target[:, 2:3, :, :])  # Blue channel\n",
    "    \n",
    "    # Average Dice loss across channels\n",
    "    return 1 - (dice_r + dice_g + dice_b) / 3  # Return average Dice loss\n",
    "\n",
    "# Example usage\n",
    "predictions = torch.randn(4, 3, 256, 256)  # Example predicted RGB images (B, C, H, W)\n",
    "targets = torch.randint(0, 2, (4, 3, 256, 256)).float()  # Example ground truth masks (B, C, H, W)\n",
    "\n",
    "loss = dice_loss(predictions, targets)\n",
    "print(\"Dice Loss:\", loss.item())"
   ]
  },
  {
   "cell_type": "code",
   "execution_count": 8,
   "metadata": {},
   "outputs": [
    {
     "data": {
      "text/plain": [
       "tensor(0.6190)"
      ]
     },
     "execution_count": 8,
     "metadata": {},
     "output_type": "execute_result"
    }
   ],
   "source": [
    "loss"
   ]
  }
 ],
 "metadata": {
  "kernelspec": {
   "display_name": "Python 3",
   "language": "python",
   "name": "python3"
  },
  "language_info": {
   "codemirror_mode": {
    "name": "ipython",
    "version": 3
   },
   "file_extension": ".py",
   "mimetype": "text/x-python",
   "name": "python",
   "nbconvert_exporter": "python",
   "pygments_lexer": "ipython3",
   "version": "3.11.5"
  }
 },
 "nbformat": 4,
 "nbformat_minor": 2
}
